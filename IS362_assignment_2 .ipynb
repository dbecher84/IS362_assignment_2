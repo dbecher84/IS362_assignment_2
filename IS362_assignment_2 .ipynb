{
 "cells": [
  {
   "cell_type": "markdown",
   "metadata": {},
   "source": [
    "Using zip() to merge multiple lists of items"
   ]
  },
  {
   "cell_type": "markdown",
   "metadata": {},
   "source": [
    "lists that need to be combinted using zip() if lists are not the same length the odd items will be dropped. "
   ]
  },
  {
   "cell_type": "code",
   "execution_count": null,
   "metadata": {},
   "outputs": [],
   "source": [
    "list_1 = ['fish', 'dog', 'cat', 'boat', 'car']\n",
    "list_2 = ['plane', 'monkey', 'zebra', 'truck', 'gun']\n",
    "list_3 = ['bowtie', 'suit', 'money', 'fan', 'coat']\n"
   ]
  },
  {
   "cell_type": "code",
   "execution_count": null,
   "metadata": {},
   "outputs": [],
   "source": [
    "combo_list_1 = list(zip(list_1, list_2, list_3))\n",
    "print (combo_list_1)"
   ]
  },
  {
   "cell_type": "markdown",
   "metadata": {},
   "source": [
    "lists of numbers to combine using comprehension, each number in list 4 is paired with the numbers in list 5"
   ]
  },
  {
   "cell_type": "code",
   "execution_count": null,
   "metadata": {},
   "outputs": [],
   "source": [
    "list_4 = [4,6,8,10,12]\n",
    "list_5 = [3,5,7,9,11]"
   ]
  },
  {
   "cell_type": "code",
   "execution_count": null,
   "metadata": {},
   "outputs": [],
   "source": [
    "combo_list_2 = ([(a,b) for a in list_4 for b in list_5])\n",
    "print (combo_list_2)"
   ]
  },
  {
   "cell_type": "code",
   "execution_count": null,
   "metadata": {},
   "outputs": [],
   "source": []
  }
 ],
 "metadata": {
  "kernelspec": {
   "display_name": "Python 3",
   "language": "python",
   "name": "python3"
  },
  "language_info": {
   "codemirror_mode": {
    "name": "ipython",
    "version": 3
   },
   "file_extension": ".py",
   "mimetype": "text/x-python",
   "name": "python",
   "nbconvert_exporter": "python",
   "pygments_lexer": "ipython3",
   "version": "3.6.5"
  }
 },
 "nbformat": 4,
 "nbformat_minor": 2
}
